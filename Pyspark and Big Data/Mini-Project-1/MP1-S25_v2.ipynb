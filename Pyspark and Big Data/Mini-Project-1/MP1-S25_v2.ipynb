{
 "cells": [
  {
   "cell_type": "markdown",
   "metadata": {},
   "source": [
    "# DS/CMPSC 410 MiniProject Deliverable #1 \n",
    "\n",
    "# Spring 2025\n",
    "## Instructor: Prof. John Yen\n",
    "## TAs: Peng Jin and Jingxi Zhu\n",
    "\n",
    "## Learning Objectives\n",
    "- Be able to identify frequent 1 ports, 2 port sets and 3 port sets (based on a threshold) that are scanned by scanners in the Darknet dataset.\n",
    "- Be able to adapt the Aprior algorithm by incorporating suitable threshold and pruning strategies.\n",
    "- Be able to improve the performance of frequent port set mining by suitable reuse of RDD, together with appropriate persist and unpersist on the reused RDD.\n",
    "- After successful execution in the local mode, modify the code for cluster mode, and final frequent 1-ports, 2-port sets, and 3-port sets using the big Darknet dataset (`Day_2020_profile.csv`).\n",
    "\n",
    "### Data\n",
    "- The small Darknet dataset 'sampled_profile.csv' and the large Darknet dataset `Day_2020_profile.csv` are available for download from Canvas, then upload to Roar under your MiniProj1 directory in work directory.\n",
    "- The thresdhold for frequent item (port) set is 400 in the local mode, and **30000 in the cluster mode**.\n",
    "\n",
    "### Items to submit:\n",
    "- Completed Jupyter Notebook (using small Darknet dataset `sampled_profile.csv`) in HTML format.\n",
    "- .py file for mining frequent 1 ports, 2 port sets. and 3 port sets in cluster mode using the big Darknet dataset `Day_2020_profile.csv`.\n",
    "- The log file containing the run time information in the CLUSTER mode.\n",
    "- one file of frequent 1-ports generated in the CLUSTER mode.\n",
    "- one file of frequent 2-port sets generated in the CLUSTER mode.\n",
    "- one file of frequent 3-port sets generated in the CLUSTER mode.\n",
    "- a screen shot (using ``ls -l`` terminal command) of the MiniProj1 directory, showing all files and directories \n",
    "\n",
    "### Total points: 120 \n",
    "- Problem 1: 10 points\n",
    "- Problem 2: 15 points\n",
    "- Problem 3: 10 points\n",
    "- Problem 4: 10 points\n",
    "- Problem 5: 20 points\n",
    "- Problem 6: 10 points\n",
    "- Problem 7: 15 points\n",
    "- Problem 8: 30 points\n",
    "  \n",
    "### Due: midnight, April 4, 2025"
   ]
  },
  {
   "cell_type": "code",
   "execution_count": 1,
   "metadata": {},
   "outputs": [],
   "source": [
    "import pyspark\n",
    "import csv\n",
    "import pandas as pd"
   ]
  },
  {
   "cell_type": "code",
   "execution_count": 2,
   "metadata": {},
   "outputs": [],
   "source": [
    "from pyspark import SparkContext\n",
    "from pyspark.sql import SparkSession\n",
    "from pyspark.sql.types import StructField, StructType, IntegerType, BooleanType, StringType, DecimalType\n",
    "from pyspark.sql.functions import col, column\n",
    "from pyspark.sql.functions import expr\n",
    "from pyspark.sql.functions import split\n",
    "from pyspark.sql import Row\n",
    "from pyspark.ml import Pipeline\n",
    "from pyspark.ml.feature import OneHotEncoder, StringIndexer, VectorAssembler, IndexToString\n",
    "from pyspark.ml.clustering import KMeans"
   ]
  },
  {
   "cell_type": "code",
   "execution_count": 3,
   "metadata": {},
   "outputs": [
    {
     "name": "stderr",
     "output_type": "stream",
     "text": [
      "WARNING: An illegal reflective access operation has occurred\n",
      "WARNING: Illegal reflective access by org.apache.spark.unsafe.Platform (file:/storage/icds/RISE/sw8/anaconda3-2021.11/conda_envs/pyspark/lib/python3.10/site-packages/pyspark/jars/spark-unsafe_2.12-3.2.1.jar) to constructor java.nio.DirectByteBuffer(long,int)\n",
      "WARNING: Please consider reporting this to the maintainers of org.apache.spark.unsafe.Platform\n",
      "WARNING: Use --illegal-access=warn to enable warnings of further illegal reflective access operations\n",
      "WARNING: All illegal access operations will be denied in a future release\n",
      "Using Spark's default log4j profile: org/apache/spark/log4j-defaults.properties\n",
      "Setting default log level to \"WARN\".\n",
      "To adjust logging level use sc.setLogLevel(newLevel). For SparkR, use setLogLevel(newLevel).\n",
      "25/03/24 14:24:33 WARN NativeCodeLoader: Unable to load native-hadoop library for your platform... using builtin-java classes where applicable\n"
     ]
    }
   ],
   "source": [
    "ss = SparkSession.builder.master(\"local\").appName(\"Mini Project #1 Freqent Port Sets Mining\").getOrCreate()"
   ]
  },
  {
   "cell_type": "code",
   "execution_count": 4,
   "metadata": {},
   "outputs": [],
   "source": [
    "ss.sparkContext.setLogLevel(\"WARN\")"
   ]
  },
  {
   "cell_type": "code",
   "execution_count": null,
   "metadata": {},
   "outputs": [],
   "source": [
    "# ss.sparkContext.setCheckpointDir(\"~/scratch\")"
   ]
  },
  {
   "cell_type": "markdown",
   "metadata": {},
   "source": [
    "# Problem 1 (10 points)\n",
    "- Complete the path below for reading \"sampled_profile.csv\" you downloaded from Canvas, uploaded to your Mini Project 1 folder. (5 points)\n",
    "- Fill in your Name (5 points) : "
   ]
  },
  {
   "cell_type": "code",
   "execution_count": 5,
   "metadata": {},
   "outputs": [],
   "source": [
    "scanner_schema = StructType([StructField(\"_c0\", IntegerType(), False), \\\n",
    "                             StructField(\"id\", IntegerType(), False ), \\\n",
    "                             StructField(\"numports\", IntegerType(), False), \\\n",
    "                             StructField(\"lifetime\", DecimalType(), False ), \\\n",
    "                             StructField(\"Bytes\", IntegerType(), False ), \\\n",
    "                             StructField(\"Packets\", IntegerType(), False), \\\n",
    "                             StructField(\"average_packetsize\", IntegerType(), False), \\\n",
    "                             StructField(\"MinUniqueDests\", IntegerType(), False),\\\n",
    "                             StructField(\"MaxUniqueDests\", IntegerType(), False), \\\n",
    "                             StructField(\"MinUniqueDest24s\", IntegerType(), False), \\\n",
    "                             StructField(\"MaxUniqueDest24s\", IntegerType(), False), \\\n",
    "                             StructField(\"average_lifetime\", DecimalType(), False), \\\n",
    "                             StructField(\"mirai\", BooleanType(), True), \\\n",
    "                             StructField(\"zmap\", BooleanType(), True),\n",
    "                             StructField(\"masscan\", BooleanType(), True),\n",
    "                             StructField(\"country\", StringType(), False), \\\n",
    "                             StructField(\"traffic_types_scanned_str\", StringType(), False), \\\n",
    "                             StructField(\"ports_scanned_str\", StringType(), False), \\\n",
    "                             StructField(\"host_tags_per_censys\", StringType(), False), \\\n",
    "                             StructField(\"host_services_per_censys\", StringType(), False) \\\n",
    "                           ])"
   ]
  },
  {
   "cell_type": "code",
   "execution_count": 6,
   "metadata": {},
   "outputs": [],
   "source": [
    "# In the cluster mode, change this line to\n",
    "# Scanners_df = ss.read.csv(\"/storage/home/???/work/MiniProj1/Day_2020_profile.csv\", schema = scanner_schema, header= True, inferSchema=False )\n",
    "Scanners_df = ss.read.csv(\"/storage/home/juy1/work/MiniProj1/sampled_profile.csv\", schema = scanner_schema, \\\n",
    "                          header=True, inferSchema=False)"
   ]
  },
  {
   "cell_type": "markdown",
   "metadata": {},
   "source": [
    "## We can use printSchema() to display the schema of the DataFrame Scanners_df to see whether it was inferred correctly."
   ]
  },
  {
   "cell_type": "code",
   "execution_count": 7,
   "metadata": {},
   "outputs": [
    {
     "name": "stdout",
     "output_type": "stream",
     "text": [
      "root\n",
      " |-- _c0: integer (nullable = true)\n",
      " |-- id: integer (nullable = true)\n",
      " |-- numports: integer (nullable = true)\n",
      " |-- lifetime: decimal(10,0) (nullable = true)\n",
      " |-- Bytes: integer (nullable = true)\n",
      " |-- Packets: integer (nullable = true)\n",
      " |-- average_packetsize: integer (nullable = true)\n",
      " |-- MinUniqueDests: integer (nullable = true)\n",
      " |-- MaxUniqueDests: integer (nullable = true)\n",
      " |-- MinUniqueDest24s: integer (nullable = true)\n",
      " |-- MaxUniqueDest24s: integer (nullable = true)\n",
      " |-- average_lifetime: decimal(10,0) (nullable = true)\n",
      " |-- mirai: boolean (nullable = true)\n",
      " |-- zmap: boolean (nullable = true)\n",
      " |-- masscan: boolean (nullable = true)\n",
      " |-- country: string (nullable = true)\n",
      " |-- traffic_types_scanned_str: string (nullable = true)\n",
      " |-- ports_scanned_str: string (nullable = true)\n",
      " |-- host_tags_per_censys: string (nullable = true)\n",
      " |-- host_services_per_censys: string (nullable = true)\n",
      "\n"
     ]
    }
   ],
   "source": [
    "Scanners_df.printSchema()"
   ]
  },
  {
   "cell_type": "markdown",
   "metadata": {},
   "source": [
    "# Read scanners data, parse the ports_scanned_str into an array"
   ]
  },
  {
   "cell_type": "code",
   "execution_count": null,
   "metadata": {},
   "outputs": [],
   "source": [
    "Scanners_df2=Scanners_df.withColumn(\"Ports_Array\", split(col(\"ports_scanned_str\"), \"-\") )"
   ]
  },
  {
   "cell_type": "code",
   "execution_count": null,
   "metadata": {},
   "outputs": [],
   "source": [
    "Ports_Scanned_RDD = Scanners_df2.select(\"Ports_Array\").rdd"
   ]
  },
  {
   "cell_type": "code",
   "execution_count": null,
   "metadata": {},
   "outputs": [],
   "source": [
    "scanner_port_list_RDD = Ports_Scanned_RDD.map(lambda x: x[\"Ports_Array\"])"
   ]
  },
  {
   "cell_type": "markdown",
   "metadata": {},
   "source": [
    "# Compute the total number of scanners scanning each port"
   ]
  },
  {
   "cell_type": "markdown",
   "metadata": {},
   "source": [
    "# Problem 2 (15 points) Complete the code below to \n",
    "- (a) calculate the total number of scanners that scan each port (5 points)\n",
    "- (b) sort them in descending order of the count (the number of scanners scanning the port) using sortByKey (5 points)\n",
    "- (c) Save the results in a text file."
   ]
  },
  {
   "cell_type": "code",
   "execution_count": null,
   "metadata": {},
   "outputs": [],
   "source": [
    "port_list_RDD = scanner_port_list_RDD.flatMap(lambda x: x)"
   ]
  },
  {
   "cell_type": "code",
   "execution_count": null,
   "metadata": {},
   "outputs": [],
   "source": [
    "port_1_RDD = port_list_RDD.map(lambda x: (x, ?) )\n",
    "port_1_RDD.take(5)"
   ]
  },
  {
   "cell_type": "code",
   "execution_count": null,
   "metadata": {},
   "outputs": [],
   "source": [
    "port_count_RDD = port_1_RDD.reduceByKey(lambda x,y: ???, 8)\n",
    "port_count_RDD.take(5)"
   ]
  },
  {
   "cell_type": "code",
   "execution_count": null,
   "metadata": {},
   "outputs": [],
   "source": [
    "sorted_count_port_RDD = port_count_RDD.map(lambda x: (??, ??)).sortByKey(ascending = False)"
   ]
  },
  {
   "cell_type": "code",
   "execution_count": null,
   "metadata": {},
   "outputs": [],
   "source": [
    "sorted_count_port_RDD.take(20)"
   ]
  },
  {
   "cell_type": "code",
   "execution_count": null,
   "metadata": {},
   "outputs": [],
   "source": [
    "sorted_port_count = \"/storage/home/???/work/MiniProj1/sorted_port_count_local.txt\"\n",
    "sorted_count_port_RDD.saveAsTextFile(sorted_port_count)"
   ]
  },
  {
   "cell_type": "markdown",
   "metadata": {},
   "source": [
    "# Threshold for this MiniProject: 400  in local mode, 30000 in cluster mode"
   ]
  },
  {
   "cell_type": "markdown",
   "metadata": {},
   "source": [
    "# Problem 3 (10 points)\n",
    "## Complete the code below to \n",
    "- (a) filter for ports whose count of scanners (scanning the port) exceeds the thresdhold,\n",
    "- (b) save the filtered top ports in a file"
   ]
  },
  {
   "cell_type": "code",
   "execution_count": null,
   "metadata": {},
   "outputs": [],
   "source": [
    "# This threshold value is 400 for the local mode.\n",
    "# You need to change it to 30000 for the cluster mode.\n",
    "threshold = 400\n",
    "freq_count_port_RDD= sorted_count_port_RDD.filter(lambda x: ?? > threshold)\n",
    "total_freq_port_count = freq_count_port_RDD.count()"
   ]
  },
  {
   "cell_type": "code",
   "execution_count": null,
   "metadata": {},
   "outputs": [],
   "source": [
    "total_freq_port_count"
   ]
  },
  {
   "cell_type": "code",
   "execution_count": null,
   "metadata": {},
   "outputs": [],
   "source": [
    "freq_count_port_RDD.saveAsTextFile(\"/storage/home/???/work/MiniProj1/freq_1_port_count_local.txt\")"
   ]
  },
  {
   "cell_type": "code",
   "execution_count": null,
   "metadata": {},
   "outputs": [],
   "source": [
    "Top_Ports = freq_count_port_RDD.map(lambda x: x[1]).collect()"
   ]
  },
  {
   "cell_type": "code",
   "execution_count": null,
   "metadata": {},
   "outputs": [],
   "source": [
    "print(Top_Ports)"
   ]
  },
  {
   "cell_type": "code",
   "execution_count": null,
   "metadata": {},
   "outputs": [],
   "source": [
    "Top_1_Port_count = len(Top_Ports)"
   ]
  },
  {
   "cell_type": "code",
   "execution_count": null,
   "metadata": {},
   "outputs": [],
   "source": [
    "print(Top_1_Port_count)"
   ]
  },
  {
   "cell_type": "markdown",
   "metadata": {},
   "source": [
    "# Finding Frequent Port Sets Being Scanned"
   ]
  },
  {
   "cell_type": "markdown",
   "metadata": {},
   "source": [
    "# Pruning Strategy: Because we do not need to consider any scanners that scan only 1 port in finding frequent 2-port sets or frequent 3-port sets, we can filter `multi_Ports_list_RDD` to remove those single port scanners."
   ]
  },
  {
   "cell_type": "code",
   "execution_count": null,
   "metadata": {},
   "outputs": [],
   "source": [
    "scanner_port_list_RDD.take(5)"
   ]
  },
  {
   "cell_type": "code",
   "execution_count": null,
   "metadata": {},
   "outputs": [],
   "source": [
    "# How many scanners are in this dataset?\n",
    "scanner_port_list_RDD.count()"
   ]
  },
  {
   "cell_type": "markdown",
   "metadata": {},
   "source": [
    "## Filter 1: Because scanners who scan only one port is not needed for finding frequent 2-port sets, we can filter them out using the Python function `len`."
   ]
  },
  {
   "cell_type": "markdown",
   "metadata": {},
   "source": [
    "# Problem 4 (10 points) \n",
    "- (a) Complete the code below to filter for scanners that scan more than one port. (5 points)\n",
    "- (b) Compute the estimated percentage of scanners, based on the sampled data, that scan more than 1 port. (5 points)"
   ]
  },
  {
   "cell_type": "code",
   "execution_count": null,
   "metadata": {},
   "outputs": [],
   "source": [
    "MPscanner_port_list_RDD = scanner_port_list_RDD.filter(lambda x: ?? >= ?? )"
   ]
  },
  {
   "cell_type": "code",
   "execution_count": null,
   "metadata": {},
   "outputs": [],
   "source": [
    "MPscanner_port_list_RDD.take(5)"
   ]
  },
  {
   "cell_type": "code",
   "execution_count": null,
   "metadata": {},
   "outputs": [],
   "source": [
    "multi_port_scanner_count = MPscanner_port_list_RDD.count()\n",
    "print(multi_port_scanner_count)"
   ]
  },
  {
   "cell_type": "code",
   "execution_count": null,
   "metadata": {},
   "outputs": [],
   "source": [
    "scanner_count= scanner_port_list_RDD.count()\n",
    "print(scanner_count)"
   ]
  },
  {
   "cell_type": "markdown",
   "metadata": {},
   "source": [
    "# Answer to Problem 4 (b):\n",
    "The estimtated percentage of scanners that scan more than 1 port is :"
   ]
  },
  {
   "cell_type": "markdown",
   "metadata": {},
   "source": [
    "# We will use `MPscanner_port_list_RDD` in the reamining code for finding frequent 2-port sets and frequent 3 port sets."
   ]
  },
  {
   "cell_type": "markdown",
   "metadata": {},
   "source": [
    "## The following two code cells demonstrate how we use Python `in` test for list to filter for scanners who scan one or more specific ports, then count the number of scanners that satisfy that criteria."
   ]
  },
  {
   "cell_type": "code",
   "execution_count": null,
   "metadata": {},
   "outputs": [],
   "source": [
    "count_80_23 = MPscanner_port_list_RDD.filter(lambda x: ('80' in x) and ('23' in x)).count()"
   ]
  },
  {
   "cell_type": "code",
   "execution_count": null,
   "metadata": {},
   "outputs": [],
   "source": [
    "print(count_80_23)"
   ]
  },
  {
   "cell_type": "code",
   "execution_count": null,
   "metadata": {},
   "outputs": [],
   "source": [
    "count2_80_23 = MPscanner_port_list_RDD.filter(lambda x: ('80' in x)).filter(lambda x: ('23' in x)).count()"
   ]
  },
  {
   "cell_type": "code",
   "execution_count": null,
   "metadata": {},
   "outputs": [],
   "source": [
    "print(count2_80_23)"
   ]
  },
  {
   "cell_type": "markdown",
   "metadata": {},
   "source": [
    "# Since we will be using `MPscanner_port_list_RDD` in the reamining code for finding frequent 2-port sets and frequent 3 port sets, we display the content of a few RDD to double check that we do not see any 1-port scanners in the RDD."
   ]
  },
  {
   "cell_type": "code",
   "execution_count": null,
   "metadata": {},
   "outputs": [],
   "source": [
    "MPscanner_port_list_RDD.take(5)"
   ]
  },
  {
   "cell_type": "markdown",
   "metadata": {},
   "source": [
    "# Frequent 1 Port Sets\n",
    "Earlier, we have saved the list of frequent 1 port set (the set of ports who have been scanned by more than x scanners, where x is the threshold) in the variable Top_Ports"
   ]
  },
  {
   "cell_type": "code",
   "execution_count": null,
   "metadata": {},
   "outputs": [],
   "source": [
    "print(Top_Ports)"
   ]
  },
  {
   "cell_type": "markdown",
   "metadata": {},
   "source": [
    "# Finding Frequent 2-Port Sets "
   ]
  },
  {
   "cell_type": "markdown",
   "metadata": {},
   "source": [
    "## As mentioned earlier, to check whether a scanner scans a specific top port (e.g., ith top port), we can use python code such as `(lambda x: Top_Ports[i] in x)` to filter for scanners that scan the sepcific port.\n",
    "## We can then iterate through all pairs of Top_Ports to (1) filter for scanners that scan both ports, and (2) count the number of scanners in the filtered RDD.\n",
    "## Below is the algorithm for finding frequent 2 port sets\n",
    "```\n",
    "N = Total number of frequent 1-ports\n",
    "For top port index i from 0 to N-1 do:\n",
    "    filtered_MPscanner_top_port_RDD = filter MPscanner_port_list_RDD for top port index i\n",
    "    For top port index j from i+1 to N-1 do:\n",
    "        candidate_freq_2_port_set = filter filtered_MPscanner_top_port_RDD for top port index j\n",
    "        2_port_count = candidate_freq_2_port_set.count()\n",
    "        If 2_port_count > threshold:\n",
    "            Save [ [Top_port[i], Top_port[j]] , 2_port_count ] in a Pandas dataframe for frequent 2 port set\n",
    "```"
   ]
  },
  {
   "cell_type": "code",
   "execution_count": null,
   "metadata": {},
   "outputs": [],
   "source": [
    "Top_1_Port_count = len(Top_Ports)"
   ]
  },
  {
   "cell_type": "code",
   "execution_count": null,
   "metadata": {},
   "outputs": [],
   "source": [
    "print(Top_1_Port_count)"
   ]
  },
  {
   "cell_type": "markdown",
   "metadata": {},
   "source": [
    "# Adding Persist and Unpersist\n",
    "- In general, when a loop uses an RDD created outside the loop, persisting the RDD improves the efficiency because it does not need to be re-computed every iteration.\n",
    "- For example, the RDD ``MPscanner_port_list_RDD`` is used inside the first for loop in both of the algorithms above.  Therefore, it is desirable to add `MPscanner_port_list_RDD.persist()` OUTSIDE of the loop, before the loop starts.\n",
    "- In general, when an RDD is created inside a loop, and is subsequently used in another nested loop, it is desirable to apply both persist and unpersist to the RDD as follows:\n",
    "-- Add persist to the RDD before the nested loop so that it does not need to be recomputed.\n",
    "-- Add unpersist to the RDD after the nested loop so that the resources (memory, disk) used to store the RDD can be releasted.\n",
    "--- For example, the RDD ``filtered_scanners_TP_i`` is used inside the nested loop `For top port index j ...`, therefore, it needs to be persisted before entering the nested loop.  \n",
    "--- Also, the RDD ``filtered_scanners_TP_i`` is not needed once we exit the loop, therefore, it is desirable to add  `filtered_scanners_TP_i.unpersist()` at the end of the loop `For top port index i ...`"
   ]
  },
  {
   "cell_type": "markdown",
   "metadata": {},
   "source": [
    "# Problem 5 (20 points)  Complete the following code (including suitabler persist and unpersist) to find BOTH frequent 2 port sets AND frequent 3 port sets \n",
    "- Hints:\n",
    "-- Use index `i` and `j` as looping variables to iterate through `Top_Ports` list, similar to the the way they are used in the algorithms above.\n",
    "-- Frequent two port sets are saved in Pandas dataframe `Two_Port_Sets_df` \n",
    "-- Use two `index2` variables to save in the Pandas dataframe `Two_Port_Sets_df`."
   ]
  },
  {
   "cell_type": "code",
   "execution_count": null,
   "metadata": {},
   "outputs": [],
   "source": [
    "# Initialize a Pandas DataFrame to store frequent port sets and their counts \n",
    "Two_Port_Sets_df = pd.DataFrame( columns = ['Port Sets', 'count'])\n",
    "# Initialize the index to Two_Port_Sets_df\n",
    "index2 = 0\n",
    "# Set the threshold for Frequent Port Sets to be 400 in local mode.\n",
    "# This threshold needs to be changed to 30000 in the cluster mode.\n",
    "threshold = 400\n",
    "???.persist()\n",
    "for i in range(0, Top_1_Port_count):\n",
    "    filtered_scanners_TP_i = MPscanner_port_list_RDD.filter(lambda x: Top_Ports[i] in x)\n",
    "    ???.persist()  \n",
    "    # We do not need to filter for threshold for 1-port sets because all ports in Top_Ports have a\n",
    "    # frequency higher than the threshold.\n",
    "    for j in range(i+1, Top_1_Port_count):\n",
    "        filtered_scanners_TP_i_j = filtered_scanners_TP_i.filter(lambda x: ??? in x)\n",
    "        port_i_j_count = filtered_scanners_TP_i_j.count()\n",
    "        if port_i_j_count > threshold:\n",
    "            Two_Port_Sets_df.loc[index2] = [ Top_Ports[i]+\"-\"+Top_Ports[j], ???] \n",
    "            index2 = index2 + 1\n",
    "            # The print statement is for running in the local mode.  It can be commented out for running in the cluster mode.\n",
    "            print(\"Two Ports:\", Top_Ports[i], \" , \", Top_Ports[j], \", Count: \", port_i_j_count)\n",
    "    ???.unpersist()"
   ]
  },
  {
   "cell_type": "markdown",
   "metadata": {},
   "source": [
    "# Create a PySpark DataFrame using the Pandas dataframes of frequent 2-port sets, then write the PySpark DataFrame (with header information)"
   ]
  },
  {
   "cell_type": "markdown",
   "metadata": {},
   "source": [
    "# Problem 6 (10 points)\n",
    "Complete the following code to save your frequent 2 port sets and 3 port sets in an output file named as ``2Ports_<your PSUID>_local.csv`` "
   ]
  },
  {
   "cell_type": "code",
   "execution_count": null,
   "metadata": {},
   "outputs": [],
   "source": [
    "DF2port = ss.createDataFrame(Two_Port_Sets_df)"
   ]
  },
  {
   "cell_type": "code",
   "execution_count": null,
   "metadata": {},
   "outputs": [],
   "source": [
    "# These output file names need to be changed in the cluster mode, so that you can compare them with those from the local mode.\n",
    "output_path_2_port = \"/storage/home/???/work/MiniProj1/2PS_???_local.csv\"\n",
    "DF2port.write.option(\"header\", True).csv(output_path_2_port)"
   ]
  },
  {
   "cell_type": "markdown",
   "metadata": {},
   "source": [
    "# Part D Finding Frequent 3-port sets"
   ]
  },
  {
   "cell_type": "markdown",
   "metadata": {},
   "source": [
    "# Approach 1:\n",
    "## One way To find frequent 3-port sets is to add another nested loop, inside the two loops above, to iterate three all possible frequent 3 port sets.\n",
    "```\n",
    "N = Total number of frequent 1-ports\n",
    "For top port index i from 0 to N-1 do:\n",
    "    filtered_MPscanner_Top_port_i = filter MPscanner_port_list_RDD for top port index i\n",
    "    For top port index j from i+1 to N-1 do:\n",
    "        filtered_MPscanner_Top_port_i_j = filter filtered_MPscanner_Top_port_i for top port index j\n",
    "        port_i_j_count = filtered_MPscanner_Top_port_i_j.count()\n",
    "        If port_i_j_count > threshold:\n",
    "            Save [ [Top_port[i], Top_port[j]] , port_i_j_count ] in a Pandas dataframe for frequent 2 port set\n",
    "            For top port index k from j+1 to N-1 do:\n",
    "                filtered_MPscanner_Top_port_i_j_k = filter filtered_MPscanner_Top_port_i_j for top port index k \n",
    "                port_i_j_k_count = filtered_MPscanner_Top_port_i_j_k.count()\n",
    "                If port_i_j_k_count > threshold:\n",
    "                Save [ [Top_port[i], Top_port[j], Top_port[k]], port_i_j_k_count ] in a Panda dataframe for frequent 3 port set\n",
    "```"
   ]
  },
  {
   "cell_type": "markdown",
   "metadata": {},
   "source": [
    "# A More Scalable Approach:\n",
    "## Due to the big size of the data, finding frequent 3 port set as the 2nd nested loop inside the loop for finding frequent 2 port sets is costly because it needs to maintain persisting on two RDDs needed for the outer loop.  In addition, it needs to persist and unpersist scanners for a 2 port set that exceeds the threshold so that we can iterate through possible 3rd ports for finding frequent 3 port sets.\n",
    "## An Alternative Approach is to find frequent 3 port sets AFTER we have found frequent 2-port sets so that we can reduce the number of RDDs that need to persist at the same time.\n",
    "## Also, we can reduce the size of scanners to consider, because we can filter out scanners that scan less than 3 ports.\n",
    "## Below is an algorithm:\n",
    "```\n",
    "Read scanners data, parse the ports_scanned_str into an array\n",
    "Generate an RDD containinging the list of ports scanned by each scanner.\n",
    "Top_ports = A list of ports whose scanner count is > threshold\n",
    "candidate_3PS_scanners = filter scanners for those that scan at least 3 ports\n",
    "frequent_2PS_RDD = Reads from the file created from frequent 2 port set mining\n",
    "frequent_2PS_RDD.persisit()\n",
    "for each 2PS in frequent_2PS_RDD do:\n",
    "    scanners_2PS = filter candidate_3PS_scanners for those that scan the two port set 2PS\n",
    "    if the number of scanners in scanners_2PS > threshold:\n",
    "        scanners_2PS.persist()\n",
    "        index_i = index of first port in 2PS\n",
    "        index_j = index of second port in 2PS\n",
    "        for index_k from max{index_i, index_j} +1 to len(Top_ports) do:\n",
    "            scanners_3PS = filter scanners_2PS for Top_ports[index_k]\n",
    "            if the number of scanners in scanners_3PS > threshold:\n",
    "                Record Top_ports[index_i], Top_ports[index_j], and Top_ports[index_k] as a frequent 3PortSet together with its count\n",
    "        scanners_2PS.unpersisit()\n",
    "frequent_2PS_RDD.unpersisit()              \n",
    "        \n",
    "```"
   ]
  },
  {
   "cell_type": "code",
   "execution_count": null,
   "metadata": {},
   "outputs": [],
   "source": [
    "# If read from file, change this line to read from your cluster output\n",
    "# DF2port = ss.read.csv(\"/storage/home/???/work/MiniProj1/2PS_???_local.csv\", header=True, inferSchema=True)"
   ]
  },
  {
   "cell_type": "code",
   "execution_count": null,
   "metadata": {},
   "outputs": [],
   "source": [
    "DF2port_A = DF2port.withColumn(\"ports array\", split(\"Port Sets\", \"-\") )"
   ]
  },
  {
   "cell_type": "code",
   "execution_count": null,
   "metadata": {},
   "outputs": [],
   "source": [
    "DF2port_A.show(3)"
   ]
  },
  {
   "cell_type": "code",
   "execution_count": null,
   "metadata": {},
   "outputs": [],
   "source": [
    "DF2port_RDD = DF2port_A.select(\"ports array\").rdd"
   ]
  },
  {
   "cell_type": "code",
   "execution_count": null,
   "metadata": {},
   "outputs": [],
   "source": [
    "DF2port_RDD.take(3)"
   ]
  },
  {
   "cell_type": "code",
   "execution_count": null,
   "metadata": {},
   "outputs": [],
   "source": [
    "TwoPort_list = DF2port_RDD.map(lambda x: x[\"ports array\"]).collect()"
   ]
  },
  {
   "cell_type": "code",
   "execution_count": null,
   "metadata": {},
   "outputs": [],
   "source": [
    "print(TwoPort_list)"
   ]
  },
  {
   "cell_type": "markdown",
   "metadata": {},
   "source": [
    "## Filter Scanners for those that scan at least three ports"
   ]
  },
  {
   "cell_type": "code",
   "execution_count": null,
   "metadata": {},
   "outputs": [],
   "source": [
    "Candidate_3PS_scanners = MPscanner_port_list_RDD.filter(lambda x: len(x) >= 3)"
   ]
  },
  {
   "cell_type": "code",
   "execution_count": null,
   "metadata": {},
   "outputs": [],
   "source": [
    "Candidate_3PS_scanners.persist()"
   ]
  },
  {
   "cell_type": "code",
   "execution_count": null,
   "metadata": {},
   "outputs": [],
   "source": [
    "MPscanner_port_list_RDD.unpersist()"
   ]
  },
  {
   "cell_type": "markdown",
   "metadata": {},
   "source": [
    "# Problem 7 (15 points) \n",
    "## Complete the missing code (including persist and unpersist) below for mining frequent 3 port sets\n",
    "## and write the results (three port sets and their counts) using PySpark DataFrame."
   ]
  },
  {
   "cell_type": "code",
   "execution_count": null,
   "metadata": {},
   "outputs": [],
   "source": [
    "# Initialize a Pandas DataFrame to store frequent port sets and their counts \n",
    "Three_Port_Sets_df = pd.DataFrame( columns= ['Port Sets', 'count'])\n",
    "# Initialize the index to Three_Port_Sets_df\n",
    "index3 = 0\n",
    "# Set the threshold for Frequent Port Sets to be 400 in local mode.\n",
    "# This threshold needs to be changed to 30000 in the cluster mode.\n",
    "threshold = 400\n",
    "Top_1_Port_count = len(Top_Ports)\n",
    "for TwoPS in TwoPort_list:\n",
    "    index_i = Top_Ports.index( TwoPS[0] )\n",
    "    index_j = Top_Ports.index( TwoPS[1] )\n",
    "    filtered_scanners_i_j = Candidate_3PS_scanners.filter(lambda x: Top_Ports[index_i] in x).filter(lambda y: ??? in y)\n",
    "    ???.persist()  \n",
    "    for k in range(max(index_i, index_j)+1, Top_1_Port_count):\n",
    "        filtered_scanners_i_j_k = filtered_scanners_i_j.filter(lambda x: ??? in x)\n",
    "        port_i_j_k_count = filtered_scanners_i_j_k.count()\n",
    "        if port_i_j_k_count > ???:\n",
    "            Three_Port_Sets_df.loc[index3] = [ Top_Ports[index_i]+\"-\"+Top_Ports[index_j]+\"-\"+Top_Ports[???], ???] \n",
    "            index3 = index3 + 1\n",
    "            # The print statement is for running in the local mode.  It can be commented out for running in the cluster mode.\n",
    "            print(\"Three Ports:\", Top_Ports[index_i], \" , \", Top_Ports[index_j], \" , \", Top_Ports[k], \", Count: \", port_i_j_k_count)\n",
    "    ???.unpersist()"
   ]
  },
  {
   "cell_type": "code",
   "execution_count": null,
   "metadata": {},
   "outputs": [],
   "source": [
    "DF3port = ss.createDataFrame(Three_Port_Sets_df)"
   ]
  },
  {
   "cell_type": "code",
   "execution_count": null,
   "metadata": {},
   "outputs": [],
   "source": [
    "# These output file names need to be changed in the cluster mode, so that you can compare them with those from the local mode.\n",
    "output_path_3_port = \"/storage/home/???/work/MiniProj1/3PS_???_local.csv\"\n",
    "DF3port.write.option(\"header\", True).csv(output_path_3_port)"
   ]
  },
  {
   "cell_type": "code",
   "execution_count": null,
   "metadata": {},
   "outputs": [],
   "source": [
    "ss.stop()"
   ]
  },
  {
   "cell_type": "markdown",
   "metadata": {},
   "source": [
    "# Part E (cluster mode): Finding frequent 2-port sets and 3-port sets from the large dataset."
   ]
  },
  {
   "cell_type": "markdown",
   "metadata": {},
   "source": [
    "# Problem 8 (30 points)\n",
    "- Remove .master(\"local\") from SparkSession statement\n",
    "- Change the input file to \"Day_2020_profile.csv\"\n",
    "- Change the threshold from 400 to 30000.\n",
    "- Change the output files to two different directories from the ones you used in local mode.\n",
    "- Export the notebook as a .py file\n",
    "- Run pbs-spark-submit on ICDS Roar \n",
    "- Submit the following items:\n",
    "-- (a) the .py file for cluster mode (5%)\n",
    "-- (b) the log file containing the run time information for the cluster mode (5%)\n",
    "-- (b) One output file for frequent 2-port sets and one output file for frequent 3-port sets generated in the cluster mode. (10%)\n",
    "-- (c) A screen shot (generated using `ls -l` terminal command) of your `MiniProj1` that shows all files and directories. (5%)\n",
    "-- (d) Discuss (in the cell below) three things you noticed that are interesting/surprising from the frequent 3-port sets (5%)"
   ]
  },
  {
   "cell_type": "markdown",
   "metadata": {},
   "source": [
    "# Your Answer to Exercise 8 (d):\n",
    "Type your answer here."
   ]
  }
 ],
 "metadata": {
  "kernelspec": {
   "display_name": "Python 3 (ipykernel)",
   "language": "python",
   "name": "python3"
  },
  "language_info": {
   "codemirror_mode": {
    "name": "ipython",
    "version": 3
   },
   "file_extension": ".py",
   "mimetype": "text/x-python",
   "name": "python",
   "nbconvert_exporter": "python",
   "pygments_lexer": "ipython3",
   "version": "3.10.4"
  }
 },
 "nbformat": 4,
 "nbformat_minor": 4
}
