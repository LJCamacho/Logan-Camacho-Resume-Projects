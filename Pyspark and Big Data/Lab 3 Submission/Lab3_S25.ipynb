{
 "cells": [
  {
   "cell_type": "markdown",
   "metadata": {},
   "source": [
    "# DS/CMPSC 410 Spring 2025\n",
    "## Instructor: Professor John Yen\n",
    "## TAs:Jin Peng and Jingxi Zhu\n",
    "# Lab 3: Counting Hashtag and Users Mentioned in Tweets\n",
    "## The goals of this lab are for you to be able to\n",
    "## - Use the RDD transformations ``filter`` and ``sortBy``.\n",
    "## - Compute hashtag counts and Twitter users mentioned in an input data file containing tweets.\n",
    "## - Apply the obove to compute hashtag counts and Twitter users mentioned in the input tweets related to Boston Marathon Bombing (gathered on April 17, 2013, two days after the domestic terrorist attack).\n",
    "\n",
    "## Total Number of Exercises: 8\n",
    "- Exercise 1: 5 points\n",
    "- Exercise 2: 10 points\n",
    "- Exercise 3: 10 points\n",
    "- Exercise 4: 5 points\n",
    "- Exercise 5: 10 points\n",
    "- Exercise 6: 5 points\n",
    "- Exercise 7: 10 points\n",
    "- Exercise 8: 30 points\n",
    "\n",
    "## Total Points: 85 points\n",
    "\n",
    "## Data for Lab 3\n",
    "- sampled_BMB_4_17_tweets.csv : A random sampled of a small set of tweets regarding Boston Marathon Bombing on April 17, 2013. This data is used in the local mode.\n",
    "- Like Lab2, download the data from Canvas into a directory for the lab (e.g., Lab3) under your home directory.\n",
    "\n",
    "## Items to submit for Lab 3\n",
    "- Completed Jupyter Notebook (HTML format)\n",
    "- The first and second output file in your output directory for users mentioned.\n",
    "- a screen shot of the ``ls -al`` command (in terminal, like the one you used to install PySpark in Lab 2) in the output directory for users mentioned.\n",
    "\n",
    "# Due: midnight, midnight Feb 2, 2025"
   ]
  },
  {
   "cell_type": "markdown",
   "metadata": {},
   "source": [
    "## Like Lab 2, the first thing we need to do in each Jupyter Notebook running pyspark is to import pyspark first."
   ]
  },
  {
   "cell_type": "code",
   "execution_count": null,
   "metadata": {},
   "outputs": [],
   "source": [
    "import pyspark"
   ]
  },
  {
   "cell_type": "code",
   "execution_count": null,
   "metadata": {},
   "outputs": [],
   "source": [
    "from pyspark import SparkContext"
   ]
  },
  {
   "cell_type": "markdown",
   "metadata": {},
   "source": [
    "## Like Lab 2, ww create a Spark Context object.  \n",
    "\n",
    "- Note: We use \"local\" as the master parameter for ``SparkContext`` in this notebook so that we can run and debug it in ICDS Jupyter Server.  However, we need to remove ``\"master=\"local\",``later when you convert this notebook into a .py file for running it in the cluster mode."
   ]
  },
  {
   "cell_type": "code",
   "execution_count": null,
   "metadata": {},
   "outputs": [],
   "source": [
    "sc=SparkContext(master=\"local\",appName=\"Lab3\")\n",
    "sc"
   ]
  },
  {
   "cell_type": "code",
   "execution_count": null,
   "metadata": {},
   "outputs": [],
   "source": [
    "sc.setLogLevel(\"WARN\")"
   ]
  },
  {
   "cell_type": "markdown",
   "metadata": {},
   "source": [
    "# Exercise 1 (5 points)  Add your name below \n",
    "## Answer for Exercise 1\n",
    "- Your Name:"
   ]
  },
  {
   "cell_type": "markdown",
   "metadata": {},
   "source": [
    "# Exercise 2 (10 points) \n",
    "## Complete the path and run the code below to read the file \"sampled_4_17_tweets.csv\" from your Lab3 directory."
   ]
  },
  {
   "cell_type": "code",
   "execution_count": null,
   "metadata": {},
   "outputs": [],
   "source": [
    "tweets_RDD = sc.textFile(\"/storage/home/???/work/Lab3/sampled_BMB_4_17_tweets.csv\")\n",
    "tweets_RDD"
   ]
  },
  {
   "cell_type": "markdown",
   "metadata": {},
   "source": [
    "# Exercise 3 (10 points) \n",
    "## Complete and execute the code below, which computes the total count of hashtags in the input tweets.\n",
    "- (a) Uses flatMap to \"flatten\" the list of tokens from each tweet (using split function) into a very large list of tokens.\n",
    "- (b) Filter the token for hashtags.\n",
    "- (c) Count the total number of hashtags in a way similar to Lab 2."
   ]
  },
  {
   "cell_type": "markdown",
   "metadata": {},
   "source": [
    "## Code for Exercise 3 is shown in the Code Cells below."
   ]
  },
  {
   "cell_type": "code",
   "execution_count": null,
   "metadata": {},
   "outputs": [],
   "source": [
    "tokens_RDD = tweets_RDD.flatMap(lambda line: line.strip().split(\" \"))\n",
    "tokens_RDD.take(3)"
   ]
  },
  {
   "cell_type": "markdown",
   "metadata": {},
   "source": [
    "# take (action for RDD)\n",
    "- ``take`` is an action for RDD.  \n",
    "- The parameter is the number of elements from the input RDD you want to show.\n",
    "- `take` is often used for debugging/learning purpose in the local mode so that the contents of a few samples of an RDD can be revealed.  This way, if the content and/or the format of the RDD differs from what you expected, you can investigate it and, if needed, fix it before proceeding further."
   ]
  },
  {
   "cell_type": "markdown",
   "metadata": {},
   "source": [
    "# filter (transformation for RDD)\n",
    "\n",
    "- The syntax for filtering (one type of data trasnformation in Spark) an input RDD is\n",
    "``<input RDD>.filter(lambda <parameter> : <the body of a Boolean function> )``\n",
    "- Notice the syntax is not what is described in p. 38 of the textbook.\n",
    "- The result of filtering the input RDD is the collection of all elements in the input RDD that pass the filter condition (i.e., returns True when the filtering Boolean function is applied to each element of the input RDD). \n",
    "- For example, the filtering condition in the pyspark conde below checks whether each element of the input RDD (i.e., `tokens_RDD`) starts with the character \"#\", using Python `startswith()` method for string."
   ]
  },
  {
   "cell_type": "code",
   "execution_count": null,
   "metadata": {},
   "outputs": [],
   "source": [
    "hashtag_RDD = tokens_RDD.filter(lambda x: x.startswith(\"#\"))"
   ]
  },
  {
   "cell_type": "code",
   "execution_count": null,
   "metadata": {},
   "outputs": [],
   "source": [
    "hashtag_1_RDD = hashtag_RDD.map(lambda x: (x, 1))"
   ]
  },
  {
   "cell_type": "code",
   "execution_count": null,
   "metadata": {},
   "outputs": [],
   "source": [
    "hashtag_count_RDD = hashtag_1_RDD.reduceByKey(lambda x, y: x+y, 5 )"
   ]
  },
  {
   "cell_type": "markdown",
   "metadata": {},
   "source": [
    "# Exercise 4 (5 points)\n",
    "Use take(n) to show the first 5 key-value pairs (hashtag, count) in hashtag_count_RDD."
   ]
  },
  {
   "cell_type": "code",
   "execution_count": null,
   "metadata": {},
   "outputs": [],
   "source": [
    "hashtag_count_RDD.take(??)"
   ]
  },
  {
   "cell_type": "markdown",
   "metadata": {},
   "source": [
    "# sortBy (transformation for RDD)\n",
    "- To sort hashtag count so that those that occur more frequent appear first, we use ``sortBy(lambda pair: pair[1], ascending=False)``.\n",
    "- `sortBy` sort the input RDD based on the value of the lambda function, which returns the value of the input key-value pair.  \n",
    "- Note: The index of a list/tuple in Python starts with 0. Therefore `pair[0]` accesses the key of each key-value pair (in the input RDD), whereas `pair[1]` accesses the value of the key-value pair in the input RDD.\n",
    "- The default sorting order is ascending. To sort in descending order, we need to set the parameter `ascending` to `False`, which means frequent/top hashtags occured first in the output."
   ]
  },
  {
   "cell_type": "markdown",
   "metadata": {},
   "source": [
    "# Exercise 5 (10 points) \n",
    "## Complete and execute the code below, which sort hashtag count by count (in descending order)\n",
    "- Note: Sort the hashtag count, which occurs in the value position, in descending order."
   ]
  },
  {
   "cell_type": "code",
   "execution_count": null,
   "metadata": {},
   "outputs": [],
   "source": [
    "sorted_hashtag_count_RDD = hashtag_count_RDD.sortBy(lambda pair: ???, ascending=???)"
   ]
  },
  {
   "cell_type": "markdown",
   "metadata": {},
   "source": [
    "# Exercise 6 (5 points)\n",
    "Use take on sorted_hashtag_count_RDD to show the top 10 hashtags, based on their counts."
   ]
  },
  {
   "cell_type": "code",
   "execution_count": null,
   "metadata": {},
   "outputs": [],
   "source": [
    "sorted_hashtag_count_RDD.take(???)"
   ]
  },
  {
   "cell_type": "markdown",
   "metadata": {},
   "source": [
    "# Exercise 7 (10 points)\n",
    "Use saveAsTextFile to save your count of hashtag counts."
   ]
  },
  {
   "cell_type": "markdown",
   "metadata": {},
   "source": [
    "### Note: You need to complete the path with your output directory (e.g., Lab3 under your work directory). "
   ]
  },
  {
   "cell_type": "code",
   "execution_count": null,
   "metadata": {},
   "outputs": [],
   "source": [
    "output_path = \"/storage/home/???/work/Lab3/sorted_hashtag_count_local.txt\" \n",
    "sorted_hashtag_count_RDD.saveAsTextFile(output_path)"
   ]
  },
  {
   "cell_type": "markdown",
   "metadata": {},
   "source": [
    "# Part 2 Counting Users Mentioned (30%)\n",
    "- Complete the code below to count Twitter users (starting with the character @) mentioned in the input tweet file. (10%)\n",
    "- Sort the Twitter users mentioned by count (in descending order) (10%)\n",
    "- Save the sorted Twitter users mentioned in an output file. (10%)"
   ]
  },
  {
   "cell_type": "code",
   "execution_count": null,
   "metadata": {},
   "outputs": [],
   "source": [
    "user_RDD = tokens_RDD.filter(lambda x: x.startswith(\"@\"))"
   ]
  },
  {
   "cell_type": "code",
   "execution_count": null,
   "metadata": {},
   "outputs": [],
   "source": [
    "..."
   ]
  },
  {
   "cell_type": "code",
   "execution_count": null,
   "metadata": {},
   "outputs": [],
   "source": []
  },
  {
   "cell_type": "code",
   "execution_count": null,
   "metadata": {},
   "outputs": [],
   "source": []
  },
  {
   "cell_type": "code",
   "execution_count": null,
   "metadata": {},
   "outputs": [],
   "source": []
  },
  {
   "cell_type": "code",
   "execution_count": null,
   "metadata": {},
   "outputs": [],
   "source": []
  },
  {
   "cell_type": "code",
   "execution_count": null,
   "metadata": {},
   "outputs": [],
   "source": [
    "output_path2 = \"/storage/home/???/work/Lab3/sorted_user_count_local.txt\" \n",
    "sorted_user_count_RDD.saveAsTextFile(output_path2)"
   ]
  },
  {
   "cell_type": "code",
   "execution_count": null,
   "metadata": {},
   "outputs": [],
   "source": [
    "sc.stop()"
   ]
  },
  {
   "cell_type": "code",
   "execution_count": null,
   "metadata": {},
   "outputs": [],
   "source": []
  }
 ],
 "metadata": {
  "kernelspec": {
   "display_name": "Python 3 (ipykernel)",
   "language": "python",
   "name": "python3"
  },
  "language_info": {
   "codemirror_mode": {
    "name": "ipython",
    "version": 3
   },
   "file_extension": ".py",
   "mimetype": "text/x-python",
   "name": "python",
   "nbconvert_exporter": "python",
   "pygments_lexer": "ipython3",
   "version": "3.10.4"
  }
 },
 "nbformat": 4,
 "nbformat_minor": 4
}
